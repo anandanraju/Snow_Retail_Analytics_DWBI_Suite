{
 "cells": [
  {
   "cell_type": "markdown",
   "id": "fa024070-6303-4088-a779-95eda4391249",
   "metadata": {},
   "source": [
    "### Date Table "
   ]
  },
  {
   "cell_type": "markdown",
   "id": "027f56df-b8ff-4926-8134-625811760c7f",
   "metadata": {},
   "source": [
    "##### Import Packages"
   ]
  },
  {
   "cell_type": "code",
   "execution_count": 4,
   "id": "be73f9fd-73b7-402e-9fb3-2249f030cb80",
   "metadata": {},
   "outputs": [],
   "source": [
    "import pandas as pd\n",
    "import numpy as np\n",
    "import csv\n",
    "import random"
   ]
  },
  {
   "cell_type": "code",
   "execution_count": 10,
   "id": "0ed58c16-bfc4-419c-8368-0168edbd3e2c",
   "metadata": {},
   "outputs": [
    {
     "name": "stdout",
     "output_type": "stream",
     "text": [
      "File created successfully\n"
     ]
    }
   ],
   "source": [
    "# Generate date between Start date and End date\n",
    "start_date = '2010-01-01'\n",
    "end_date = '2025-05-01'\n",
    "\n",
    "date_range = pd.date_range(start = start_date, end = end_date)\n",
    "\n",
    "# Convert series of dates into dateframe\n",
    "date_dim = pd.DataFrame(date_range, columns = ['Date']) \n",
    "\n",
    "# Create new columns reference from date column - Date_ID, Day_Of_Week, Month, Quarter, Year, IsWeekend\n",
    "date_dim['Date_ID'] = date_dim['Date'].dt.strftime('%Y%m%d').astype(int)\n",
    "date_dim['Day_Of_Week'] = date_dim['Date'].dt.dayofweek\n",
    "date_dim['Month'] = date_dim['Date'].dt.month\n",
    "date_dim['Quarter'] = date_dim['Date'].dt.quarter\n",
    "date_dim['Year'] = date_dim['Date'].dt.year\n",
    "date_dim['IsWeekend'] = date_dim['Day_Of_Week'].isin([5,6])\n",
    "\n",
    "# Reorder the columns to make dataid as first column\n",
    "cols = ['Date_ID'] + [col for col in date_dim.columns if col != 'Date_ID']\n",
    "date_dim = date_dim[cols]\n",
    "\n",
    "# covert it into csv file\n",
    "date_dim.to_csv(\"Dim_Date_Table.csv\", index=False)\n",
    "\n",
    "# Print Success\n",
    "print(\"File created successfully\")"
   ]
  },
  {
   "cell_type": "code",
   "execution_count": null,
   "id": "cc6465f3-88b4-43fb-be29-c50b7a803753",
   "metadata": {},
   "outputs": [],
   "source": []
  },
  {
   "cell_type": "code",
   "execution_count": null,
   "id": "dd672d79-f3f7-4c3e-ac4d-668bff694ac0",
   "metadata": {},
   "outputs": [],
   "source": []
  }
 ],
 "metadata": {
  "kernelspec": {
   "display_name": "Python 3 (ipykernel)",
   "language": "python",
   "name": "python3"
  },
  "language_info": {
   "codemirror_mode": {
    "name": "ipython",
    "version": 3
   },
   "file_extension": ".py",
   "mimetype": "text/x-python",
   "name": "python",
   "nbconvert_exporter": "python",
   "pygments_lexer": "ipython3",
   "version": "3.12.4"
  }
 },
 "nbformat": 4,
 "nbformat_minor": 5
}
