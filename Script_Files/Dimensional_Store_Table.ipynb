{
 "cells": [
  {
   "cell_type": "markdown",
   "id": "fa024070-6303-4088-a779-95eda4391249",
   "metadata": {},
   "source": [
    "### Store Table "
   ]
  },
  {
   "cell_type": "code",
   "execution_count": 3,
   "id": "18294b29-8426-4cd8-9362-47453755f346",
   "metadata": {},
   "outputs": [
    {
     "name": "stdout",
     "output_type": "stream",
     "text": [
      "Requirement already satisfied: faker in c:\\users\\anand\\anaconda3\\lib\\site-packages (37.4.0)\n",
      "Requirement already satisfied: tzdata in c:\\users\\anand\\anaconda3\\lib\\site-packages (from faker) (2023.3)\n"
     ]
    }
   ],
   "source": [
    "!pip install faker"
   ]
  },
  {
   "cell_type": "code",
   "execution_count": 3,
   "id": "cfc23b21-cbfe-4896-85ff-836fea86735f",
   "metadata": {},
   "outputs": [],
   "source": [
    "import pandas as pd\n",
    "import csv\n",
    "import random\n",
    "from faker import Faker"
   ]
  },
  {
   "cell_type": "code",
   "execution_count": 13,
   "id": "e52408d4-8db5-43cf-93b0-fc420412be4f",
   "metadata": {},
   "outputs": [
    {
     "name": "stdin",
     "output_type": "stream",
     "text": [
      "Enter the number of row the CSV file should have:  10000\n",
      "Enter the name of the CSV file (with or without .csv):  Dim_Store_Table\n"
     ]
    },
    {
     "name": "stdout",
     "output_type": "stream",
     "text": [
      "Final CSV file name: Dim_Store_Table.csv\n",
      "File created successfully\n"
     ]
    }
   ],
   "source": [
    "# Intialize the object\n",
    "fake = Faker()\n",
    "\n",
    "# Mention the number of rows\n",
    "num_rows = int(input(\"Enter the number of row the CSV file should have: \"))\n",
    "\n",
    "# Mention Name of the CSV\n",
    "csv_name = input(\"Enter the name of the CSV file (with or without .csv): \")\n",
    "\n",
    "# Ensure the file name ends with .csv\n",
    "if not csv_name.lower().endswith('.csv'):\n",
    "    csv_name += '.csv'\n",
    "\n",
    "print(\"Final CSV file name:\", csv_name)\n",
    "\n",
    "# Details of excel file that has the lookup data, File Path and Name, Sheet Name and Column Names where the data is present.\n",
    "excel_file_path_name = \"C:/Users/anand/Projects/DS_Projects/Snow_Retail_Analytics_DWBI_Suite/LoopUp_Data/LookupFile.xlsx\"\n",
    "excel_sheet_name = \"Store_Name_Data\"\n",
    "adjective_column_name = \"Adjectives\"\n",
    "noun_column_name = \"Nouns\"\n",
    "\n",
    "# Fetch this sheet data in the dataframe\n",
    "df = pd.read_excel(excel_file_path_name, sheet_name = excel_sheet_name)\n",
    "\n",
    "''' # Use it for list type\n",
    "\n",
    "# Lists of adjectives and nouns\n",
    "adjectives = [\n",
    "    \"Trendy\", \"Urban\", \"Rustic\", \"Blissful\", \"Vintage\", \"Cozy\", \"Modern\", \"Chic\",\"Elegant\", \"Timeless\", \"Enchanted\", \"Serene\", \n",
    "    \"Artisan\", \"Whimsy\", \"Stylish\", \"Radiant\", \"Unique\", \"Luxe\", \"Happy\", \"Golden\", \"Harmony\", \"Dapper\", \"Classy\", \"Eclectic\", \n",
    "    \"Shimmer\", \"Purely\", \"Majestic\", \"Polished\"]\n",
    "\n",
    "nouns = [\n",
    "    \"Corner\", \"Treasures\", \"Emporium\", \"Boutique\", \"Vault\", \"Nook\", \"Marvels\", \"Avenue\", \"Essentials\", \"Hub\", \"Sanctuary\", \"Haven\", \n",
    "    \"Deals\", \"Closet\", \"Elegance\", \"Shoppe\", \"Oasis\", \"Marketplace\", \"Reflections\", \"Merchant\", \"Perfection\", \"Cabinet\", \"Creations\",\n",
    "    \"Enclave\", \"Shop\", \"Quest\", \"Finds\", \"Loft\"]\n",
    "    \n",
    "df = pd.DataFrame({'Adjectives': adjectives, 'Nouns': nouns})\n",
    "df.to_csv(csv_name, index=False) '''\n",
    "\n",
    "# Open CSV File\n",
    "with open(csv_name, mode='w', newline='') as file:\n",
    "    writer = csv.writer(file)\n",
    "\n",
    "# Create the header\n",
    "    header = [\"Store_Name\", \"Store_Type\", \"Store_Opening_Date\",  \"Address\", \"City\", \"State\", \"Country\", \"Region\", \"Manager_Name\"]\n",
    "\n",
    "# Write the header to the CSV File\n",
    "    writer.writerow(header)\n",
    "\n",
    "# Loop and Generate multiple rows\n",
    "    for _ in range(num_rows):        \n",
    "    \n",
    "# Select the random Adjective and Noun to concatenate it with the word \"The\" and use it as the store name.\n",
    "        random_adjective = df['Adjectives'].sample(n=1).values[0]\n",
    "        random_noun = df['Nouns'].sample(n=1).values[0]    \n",
    "        store_name = f\"The {random_adjective} {random_noun}\"\n",
    "\n",
    "# Generate single row\n",
    "        row = [\n",
    "            store_name,\n",
    "            random.choice([\"Flagship Store\", \"Concept Store\", \"Outlet Store\", \"Franchise\", \"Pop-Up Store\", \"Showroom\", \"Kiosk\", \n",
    "                           \"Retail Hub\", \"Wholesale Outlet\", \"Online Exclusive\", \"MBO (Multi-Brand Outlet)\", \n",
    "                           \"EBO (Exclusive Brand Outlet)\", \"SMB (Small & Medium Business)\", \"Hyperlocal Store\", \n",
    "                           \"Direct-to-Consumer\", \"Third-Party Seller\", \"Partner Outlet\", \"Chain Store\", \"Department Store\", \n",
    "                           \"Exclusive\", \"Signature Store\", \"Luxe Corner\", \"Prestige Retail\", \"Prime Collection\", \n",
    "                           \"Elite Outlet\", \"Bargain Bin\", \"Factory Outlet\", \"Budget Shop\", \"Clearance Store\", \"Everyday Value\", \n",
    "                           \"Discount Mart\"]),\n",
    "            fake.date(),\n",
    "            fake.address().replace(\"\\n\",\",\"),\n",
    "            fake.city(),\n",
    "            fake.state(),\n",
    "            fake.country(),\n",
    "            random.choice([\"North\", \"South\", \"East\", \"West\", \"Central\", \"North-East\", \"South-West\", \"North-West\", \"South-East\", \n",
    "                           \"Midwest\", \"Pacific\", \"Atlantic\", \"International\", \"Metro\", \"Rural\", \"Urban\", \"Coastal\", \"Inland\"]),\n",
    "            fake.first_name()+\" \"+fake.last_name()\n",
    "        ]\n",
    "\n",
    "# Write the row to the CSV file\n",
    "        writer.writerow(row)\n",
    "\n",
    "# Print Success\n",
    "print(\"File created successfully\")"
   ]
  },
  {
   "cell_type": "code",
   "execution_count": null,
   "id": "389444d3-e85e-4110-a9ca-00afd5ed1733",
   "metadata": {},
   "outputs": [],
   "source": []
  },
  {
   "cell_type": "code",
   "execution_count": null,
   "id": "938a6637-ea5e-4641-8aa3-b7c885932fb7",
   "metadata": {},
   "outputs": [],
   "source": []
  }
 ],
 "metadata": {
  "kernelspec": {
   "display_name": "Python 3 (ipykernel)",
   "language": "python",
   "name": "python3"
  },
  "language_info": {
   "codemirror_mode": {
    "name": "ipython",
    "version": 3
   },
   "file_extension": ".py",
   "mimetype": "text/x-python",
   "name": "python",
   "nbconvert_exporter": "python",
   "pygments_lexer": "ipython3",
   "version": "3.12.4"
  }
 },
 "nbformat": 4,
 "nbformat_minor": 5
}
