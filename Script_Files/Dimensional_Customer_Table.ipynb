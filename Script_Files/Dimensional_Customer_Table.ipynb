{
 "cells": [
  {
   "cell_type": "markdown",
   "id": "fa024070-6303-4088-a779-95eda4391249",
   "metadata": {},
   "source": [
    "### Customer Table "
   ]
  },
  {
   "cell_type": "code",
   "execution_count": 43,
   "id": "c1dba8e1-66b8-4ddb-baa0-f539ef6238bd",
   "metadata": {
    "scrolled": true
   },
   "outputs": [
    {
     "name": "stdout",
     "output_type": "stream",
     "text": [
      "Collecting faker\n",
      "  Downloading faker-37.4.0-py3-none-any.whl.metadata (15 kB)\n",
      "Requirement already satisfied: tzdata in c:\\users\\anand\\anaconda3\\lib\\site-packages (from faker) (2023.3)\n",
      "Downloading faker-37.4.0-py3-none-any.whl (1.9 MB)\n",
      "   ---------------------------------------- 0.0/1.9 MB ? eta -:--:--\n",
      "   ---- ----------------------------------- 0.2/1.9 MB 7.3 MB/s eta 0:00:01\n",
      "   ---------- ----------------------------- 0.5/1.9 MB 6.4 MB/s eta 0:00:01\n",
      "   -------------------- ------------------- 1.0/1.9 MB 7.0 MB/s eta 0:00:01\n",
      "   -------------------------- ------------- 1.3/1.9 MB 6.8 MB/s eta 0:00:01\n",
      "   --------------------------------- ------ 1.6/1.9 MB 6.9 MB/s eta 0:00:01\n",
      "   ---------------------------------------  1.9/1.9 MB 7.3 MB/s eta 0:00:01\n",
      "   ---------------------------------------- 1.9/1.9 MB 6.5 MB/s eta 0:00:00\n",
      "Installing collected packages: faker\n",
      "Successfully installed faker-37.4.0\n",
      "Note: you may need to restart the kernel to use updated packages.\n"
     ]
    }
   ],
   "source": [
    "!pip install faker"
   ]
  },
  {
   "cell_type": "markdown",
   "id": "027f56df-b8ff-4926-8134-625811760c7f",
   "metadata": {},
   "source": [
    "##### Import Packages"
   ]
  },
  {
   "cell_type": "code",
   "execution_count": 8,
   "id": "be73f9fd-73b7-402e-9fb3-2249f030cb80",
   "metadata": {},
   "outputs": [],
   "source": [
    "import pandas as pd\n",
    "import csv\n",
    "import random\n",
    "from faker import Faker"
   ]
  },
  {
   "cell_type": "code",
   "execution_count": 34,
   "id": "0ed58c16-bfc4-419c-8368-0168edbd3e2c",
   "metadata": {},
   "outputs": [
    {
     "name": "stdin",
     "output_type": "stream",
     "text": [
      "Enter the number of row the CSV file should have:  10000\n",
      "Enter the name of the CSV file (with or without .csv):  Dim_Customer_Table\n"
     ]
    },
    {
     "name": "stdout",
     "output_type": "stream",
     "text": [
      "Final CSV file name: Dim_Customer_Table.csv\n",
      "File created successfully\n"
     ]
    }
   ],
   "source": [
    "# Intialize the object\n",
    "fake = Faker()\n",
    "\n",
    "# Mention the number of rows\n",
    "num_rows = int(input(\"Enter the number of row the CSV file should have: \"))\n",
    "\n",
    "# Mention Name of the CSV\n",
    "csv_name = input(\"Enter the name of the CSV file (with or without .csv): \")\n",
    "\n",
    "# Ensure the file name ends with .csv\n",
    "if not csv_name.lower().endswith('.csv'):\n",
    "    csv_name += '.csv'\n",
    "\n",
    "print(\"Final CSV file name:\", csv_name)\n",
    "\n",
    "# Open CSV File\n",
    "with open(csv_name, mode='w',newline='') as file:\n",
    "    writer = csv.writer(file)\n",
    "\n",
    "# Create the header\n",
    "    header = [\"First_Name\", \"Last_Name\", \"Gender\", \"DOB\", \"Email\", \"Phone_Number\", \"Address\", \"City\", \"State\", \n",
    "              \"Zip_Code\", \"Country\", \"Loyalty_Program_ID\"]\n",
    "\n",
    "# Write the header to the CSV File\n",
    "    writer.writerow(header)\n",
    "\n",
    "# Loop and Generate multiple rows\n",
    "    for _ in range(num_rows):\n",
    "        number = ''.join(filter(str.isdigit, fake.phone_number()))\n",
    "        if len(number) < 9:\n",
    "            number = number.ljust(9, '0')\n",
    "        phone_number = number[:10] \n",
    "        row = [\n",
    "                fake.first_name(),\n",
    "                fake.last_name(),\n",
    "                random.choice([\"M\",\"F\",\"Others\",\"Not Specified\"]),\n",
    "                fake.date(),\n",
    "                fake.email(),\n",
    "                phone_number,\n",
    "                fake.address().replace('\\n', ', '),\n",
    "                fake.city(),\n",
    "                fake.state(),\n",
    "                fake.postcode(),\n",
    "                fake.country(),\n",
    "                random.randint(1,5)\n",
    "             ]\n",
    "\n",
    "# Write the row to the CSV file\n",
    "        writer.writerow(row)\n",
    "\n",
    "# Print Success\n",
    "print(\"File created successfully\")"
   ]
  },
  {
   "cell_type": "code",
   "execution_count": null,
   "id": "cc6465f3-88b4-43fb-be29-c50b7a803753",
   "metadata": {},
   "outputs": [],
   "source": []
  }
 ],
 "metadata": {
  "kernelspec": {
   "display_name": "Python 3 (ipykernel)",
   "language": "python",
   "name": "python3"
  },
  "language_info": {
   "codemirror_mode": {
    "name": "ipython",
    "version": 3
   },
   "file_extension": ".py",
   "mimetype": "text/x-python",
   "name": "python",
   "nbconvert_exporter": "python",
   "pygments_lexer": "ipython3",
   "version": "3.12.4"
  }
 },
 "nbformat": 4,
 "nbformat_minor": 5
}
